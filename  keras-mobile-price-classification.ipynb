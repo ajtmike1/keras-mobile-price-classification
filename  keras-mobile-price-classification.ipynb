{
  "nbformat": 4,
  "nbformat_minor": 0,
  "metadata": {
    "colab": {
      "name": "Untitled3.ipynb",
      "provenance": [],
      "collapsed_sections": [],
      "toc_visible": true,
      "authorship_tag": "ABX9TyOGXksH3q/pVQZyBiKxSgSy",
      "include_colab_link": true
    },
    "kernelspec": {
      "name": "python3",
      "display_name": "Python 3"
    }
  },
  "cells": [
    {
      "cell_type": "markdown",
      "metadata": {
        "id": "view-in-github",
        "colab_type": "text"
      },
      "source": [
        "<a href=\"https://colab.research.google.com/github/ajtmike1/keras-mobile-price-classification/blob/master/%20keras-mobile-price-classification.ipynb\" target=\"_parent\"><img src=\"https://colab.research.google.com/assets/colab-badge.svg\" alt=\"Open In Colab\"/></a>"
      ]
    },
    {
      "cell_type": "code",
      "metadata": {
        "id": "HXjgfI2z2jnp",
        "colab_type": "code",
        "colab": {}
      },
      "source": [
        "import functools\n",
        "\n",
        "import numpy as np\n",
        "import tensorflow as tf\n"
      ],
      "execution_count": 0,
      "outputs": []
    },
    {
      "cell_type": "code",
      "metadata": {
        "id": "CM8LBYJ6W7KX",
        "colab_type": "code",
        "colab": {
          "resources": {
            "http://localhost:8080/nbextensions/google.colab/files.js": {
              "data": "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",
              "ok": true,
              "headers": [
                [
                  "content-type",
                  "application/javascript"
                ]
              ],
              "status": 200,
              "status_text": ""
            }
          },
          "base_uri": "https://localhost:8080/",
          "height": 74
        },
        "outputId": "6db0f219-e3c4-40b2-f7dc-a9eceddc8aca"
      },
      "source": [
        "from google.colab import files\n",
        "uploaded = files.upload()"
      ],
      "execution_count": 1,
      "outputs": [
        {
          "output_type": "display_data",
          "data": {
            "text/html": [
              "\n",
              "     <input type=\"file\" id=\"files-b88f839d-89f3-43df-8c2a-e39cb476c2be\" name=\"files[]\" multiple disabled />\n",
              "     <output id=\"result-b88f839d-89f3-43df-8c2a-e39cb476c2be\">\n",
              "      Upload widget is only available when the cell has been executed in the\n",
              "      current browser session. Please rerun this cell to enable.\n",
              "      </output>\n",
              "      <script src=\"/nbextensions/google.colab/files.js\"></script> "
            ],
            "text/plain": [
              "<IPython.core.display.HTML object>"
            ]
          },
          "metadata": {
            "tags": []
          }
        },
        {
          "output_type": "stream",
          "text": [
            "Saving mobile_price_classification_train.csv to mobile_price_classification_train (1).csv\n"
          ],
          "name": "stdout"
        }
      ]
    },
    {
      "cell_type": "code",
      "metadata": {
        "id": "gxs0h88uXq3K",
        "colab_type": "code",
        "colab": {}
      },
      "source": [
        "import io\n",
        "import pandas as pd\n",
        "dataframe = pd.read_csv(io.BytesIO(uploaded['mobile_price_classification_train.csv']))\n"
      ],
      "execution_count": 0,
      "outputs": []
    },
    {
      "cell_type": "code",
      "metadata": {
        "id": "krO4InG5YTv2",
        "colab_type": "code",
        "colab": {
          "base_uri": "https://localhost:8080/",
          "height": 255
        },
        "outputId": "24151a9c-34f8-4a53-ddc1-741655302bb8"
      },
      "source": [
        "dataframe.head"
      ],
      "execution_count": 38,
      "outputs": [
        {
          "output_type": "execute_result",
          "data": {
            "text/plain": [
              "<bound method NDFrame.head of       battery_power  blue  clock_speed  ...  touch_screen  wifi  price_range\n",
              "0               842     0          2.2  ...             0     1            1\n",
              "1              1021     1          0.5  ...             1     0            2\n",
              "2               563     1          0.5  ...             1     0            2\n",
              "3               615     1          2.5  ...             0     0            2\n",
              "4              1821     1          1.2  ...             1     0            1\n",
              "...             ...   ...          ...  ...           ...   ...          ...\n",
              "1995            794     1          0.5  ...             1     0            0\n",
              "1996           1965     1          2.6  ...             1     1            2\n",
              "1997           1911     0          0.9  ...             1     0            3\n",
              "1998           1512     0          0.9  ...             1     1            0\n",
              "1999            510     1          2.0  ...             1     1            3\n",
              "\n",
              "[2000 rows x 21 columns]>"
            ]
          },
          "metadata": {
            "tags": []
          },
          "execution_count": 38
        }
      ]
    },
    {
      "cell_type": "code",
      "metadata": {
        "id": "TXO47VKGYdtH",
        "colab_type": "code",
        "colab": {
          "base_uri": "https://localhost:8080/",
          "height": 85
        },
        "outputId": "e6979759-4fc8-4a3d-ef60-d56bd99d41d3"
      },
      "source": [
        "X = dataframe.iloc[:,:20].values\n",
        "Y = dataframe.iloc[:,20:21].values\n",
        "print(X[0])\n",
        "print(Y[0])"
      ],
      "execution_count": 50,
      "outputs": [
        {
          "output_type": "stream",
          "text": [
            "[8.420e+02 0.000e+00 2.200e+00 0.000e+00 1.000e+00 0.000e+00 7.000e+00\n",
            " 6.000e-01 1.880e+02 2.000e+00 2.000e+00 2.000e+01 7.560e+02 2.549e+03\n",
            " 9.000e+00 7.000e+00 1.900e+01 0.000e+00 0.000e+00 1.000e+00]\n",
            "[1]\n"
          ],
          "name": "stdout"
        }
      ]
    },
    {
      "cell_type": "code",
      "metadata": {
        "id": "jweDSCGW-C_b",
        "colab_type": "code",
        "colab": {
          "base_uri": "https://localhost:8080/",
          "height": 102
        },
        "outputId": "b20096b2-f6d0-4af3-caf3-e50f19607229"
      },
      "source": [
        "from sklearn.preprocessing import StandardScaler\n",
        "sc = StandardScaler()\n",
        "X = sc.fit_transform(X)\n",
        "print(X[0])\n",
        "print(Y[0])"
      ],
      "execution_count": 52,
      "outputs": [
        {
          "output_type": "stream",
          "text": [
            "[-0.90259726 -0.9900495   0.83077942 -1.01918398 -0.76249466 -1.04396559\n",
            " -1.38064353  0.34073951  1.34924881 -1.10197128 -1.3057501  -1.40894856\n",
            " -1.14678403  0.39170341 -0.78498329  0.2831028   1.46249332 -1.78686097\n",
            " -1.00601811  0.98609664]\n",
            "[1]\n"
          ],
          "name": "stdout"
        }
      ]
    },
    {
      "cell_type": "code",
      "metadata": {
        "id": "6fARxQ5n-RKA",
        "colab_type": "code",
        "colab": {
          "base_uri": "https://localhost:8080/",
          "height": 136
        },
        "outputId": "e7890c6b-0c15-45af-b711-5d2a3a88a2b7"
      },
      "source": [
        "from sklearn.preprocessing import OneHotEncoder\n",
        "ohe = OneHotEncoder()\n",
        "Y = ohe.fit_transform(Y).toarray()\n",
        "print(Y)"
      ],
      "execution_count": 53,
      "outputs": [
        {
          "output_type": "stream",
          "text": [
            "[[0. 1. 0. 0.]\n",
            " [0. 0. 1. 0.]\n",
            " [0. 0. 1. 0.]\n",
            " ...\n",
            " [0. 0. 0. 1.]\n",
            " [1. 0. 0. 0.]\n",
            " [0. 0. 0. 1.]]\n"
          ],
          "name": "stdout"
        }
      ]
    },
    {
      "cell_type": "code",
      "metadata": {
        "id": "uwCJ3LJ2-_zf",
        "colab_type": "code",
        "colab": {}
      },
      "source": [
        "from sklearn.model_selection import train_test_split\n",
        "X_train, X_test, Y_train, Y_test = train_test_split(X, Y, test_size=0.1)"
      ],
      "execution_count": 0,
      "outputs": []
    },
    {
      "cell_type": "code",
      "metadata": {
        "id": "IJj6M_kg_u4v",
        "colab_type": "code",
        "colab": {}
      },
      "source": [
        "#Build keras model\n",
        "import keras as K\n",
        "from keras.models import Sequential\n",
        "from keras.layers import Dense\n",
        "\n",
        "model = Sequential()\n",
        "model.add(Dense(16, input_dim=20, activation='relu'))\n",
        "model.add(Dense(12, activation='relu'))\n",
        "model.add(Dense(4, activation='softmax'))\n"
      ],
      "execution_count": 0,
      "outputs": []
    },
    {
      "cell_type": "code",
      "metadata": {
        "id": "AdTvr5cJAQ-S",
        "colab_type": "code",
        "colab": {}
      },
      "source": [
        "model.compile(loss='categorical_crossentropy', optimizer='adam', metrics=['accuracy'])"
      ],
      "execution_count": 0,
      "outputs": []
    },
    {
      "cell_type": "code",
      "metadata": {
        "id": "FoG1IXFIAzOg",
        "colab_type": "code",
        "colab": {
          "base_uri": "https://localhost:8080/",
          "height": 3434
        },
        "outputId": "9a2d401b-5c7d-420d-f2cc-845d720f3cf1"
      },
      "source": [
        "history = model.fit(X_train, Y_train, validation_data=(X_test, Y_test), epochs=100, batch_size=64)"
      ],
      "execution_count": 57,
      "outputs": [
        {
          "output_type": "stream",
          "text": [
            "Train on 1800 samples, validate on 200 samples\n",
            "Epoch 1/100\n",
            "1800/1800 [==============================] - 0s 60us/step - loss: 1.4923 - accuracy: 0.2344 - val_loss: 1.3973 - val_accuracy: 0.3200\n",
            "Epoch 2/100\n",
            "1800/1800 [==============================] - 0s 19us/step - loss: 1.3942 - accuracy: 0.2983 - val_loss: 1.3446 - val_accuracy: 0.3600\n",
            "Epoch 3/100\n",
            "1800/1800 [==============================] - 0s 19us/step - loss: 1.3400 - accuracy: 0.3494 - val_loss: 1.3038 - val_accuracy: 0.4000\n",
            "Epoch 4/100\n",
            "1800/1800 [==============================] - 0s 19us/step - loss: 1.2946 - accuracy: 0.3972 - val_loss: 1.2580 - val_accuracy: 0.4600\n",
            "Epoch 5/100\n",
            "1800/1800 [==============================] - 0s 19us/step - loss: 1.2465 - accuracy: 0.4356 - val_loss: 1.2069 - val_accuracy: 0.4700\n",
            "Epoch 6/100\n",
            "1800/1800 [==============================] - 0s 20us/step - loss: 1.1912 - accuracy: 0.4811 - val_loss: 1.1442 - val_accuracy: 0.5150\n",
            "Epoch 7/100\n",
            "1800/1800 [==============================] - 0s 21us/step - loss: 1.1239 - accuracy: 0.5178 - val_loss: 1.0722 - val_accuracy: 0.5750\n",
            "Epoch 8/100\n",
            "1800/1800 [==============================] - 0s 21us/step - loss: 1.0464 - accuracy: 0.5589 - val_loss: 0.9915 - val_accuracy: 0.6000\n",
            "Epoch 9/100\n",
            "1800/1800 [==============================] - 0s 19us/step - loss: 0.9647 - accuracy: 0.5922 - val_loss: 0.9096 - val_accuracy: 0.6500\n",
            "Epoch 10/100\n",
            "1800/1800 [==============================] - 0s 20us/step - loss: 0.8833 - accuracy: 0.6322 - val_loss: 0.8335 - val_accuracy: 0.6650\n",
            "Epoch 11/100\n",
            "1800/1800 [==============================] - 0s 20us/step - loss: 0.8071 - accuracy: 0.6744 - val_loss: 0.7658 - val_accuracy: 0.7000\n",
            "Epoch 12/100\n",
            "1800/1800 [==============================] - 0s 19us/step - loss: 0.7388 - accuracy: 0.7078 - val_loss: 0.7062 - val_accuracy: 0.7300\n",
            "Epoch 13/100\n",
            "1800/1800 [==============================] - 0s 20us/step - loss: 0.6788 - accuracy: 0.7456 - val_loss: 0.6523 - val_accuracy: 0.7900\n",
            "Epoch 14/100\n",
            "1800/1800 [==============================] - 0s 19us/step - loss: 0.6245 - accuracy: 0.7906 - val_loss: 0.6028 - val_accuracy: 0.8300\n",
            "Epoch 15/100\n",
            "1800/1800 [==============================] - 0s 19us/step - loss: 0.5774 - accuracy: 0.8122 - val_loss: 0.5595 - val_accuracy: 0.8400\n",
            "Epoch 16/100\n",
            "1800/1800 [==============================] - 0s 20us/step - loss: 0.5344 - accuracy: 0.8383 - val_loss: 0.5189 - val_accuracy: 0.8400\n",
            "Epoch 17/100\n",
            "1800/1800 [==============================] - 0s 19us/step - loss: 0.4964 - accuracy: 0.8556 - val_loss: 0.4891 - val_accuracy: 0.8550\n",
            "Epoch 18/100\n",
            "1800/1800 [==============================] - 0s 20us/step - loss: 0.4613 - accuracy: 0.8733 - val_loss: 0.4568 - val_accuracy: 0.8650\n",
            "Epoch 19/100\n",
            "1800/1800 [==============================] - 0s 19us/step - loss: 0.4291 - accuracy: 0.8833 - val_loss: 0.4301 - val_accuracy: 0.8700\n",
            "Epoch 20/100\n",
            "1800/1800 [==============================] - 0s 20us/step - loss: 0.3997 - accuracy: 0.8956 - val_loss: 0.4084 - val_accuracy: 0.8700\n",
            "Epoch 21/100\n",
            "1800/1800 [==============================] - 0s 20us/step - loss: 0.3736 - accuracy: 0.8994 - val_loss: 0.3847 - val_accuracy: 0.8800\n",
            "Epoch 22/100\n",
            "1800/1800 [==============================] - 0s 22us/step - loss: 0.3492 - accuracy: 0.9117 - val_loss: 0.3669 - val_accuracy: 0.8800\n",
            "Epoch 23/100\n",
            "1800/1800 [==============================] - 0s 20us/step - loss: 0.3277 - accuracy: 0.9167 - val_loss: 0.3487 - val_accuracy: 0.8800\n",
            "Epoch 24/100\n",
            "1800/1800 [==============================] - 0s 21us/step - loss: 0.3075 - accuracy: 0.9200 - val_loss: 0.3370 - val_accuracy: 0.8800\n",
            "Epoch 25/100\n",
            "1800/1800 [==============================] - 0s 19us/step - loss: 0.2893 - accuracy: 0.9250 - val_loss: 0.3186 - val_accuracy: 0.8850\n",
            "Epoch 26/100\n",
            "1800/1800 [==============================] - 0s 19us/step - loss: 0.2731 - accuracy: 0.9278 - val_loss: 0.3055 - val_accuracy: 0.8900\n",
            "Epoch 27/100\n",
            "1800/1800 [==============================] - 0s 21us/step - loss: 0.2587 - accuracy: 0.9250 - val_loss: 0.2920 - val_accuracy: 0.9000\n",
            "Epoch 28/100\n",
            "1800/1800 [==============================] - 0s 19us/step - loss: 0.2457 - accuracy: 0.9311 - val_loss: 0.2823 - val_accuracy: 0.8950\n",
            "Epoch 29/100\n",
            "1800/1800 [==============================] - 0s 20us/step - loss: 0.2336 - accuracy: 0.9339 - val_loss: 0.2743 - val_accuracy: 0.8950\n",
            "Epoch 30/100\n",
            "1800/1800 [==============================] - 0s 20us/step - loss: 0.2229 - accuracy: 0.9339 - val_loss: 0.2696 - val_accuracy: 0.9000\n",
            "Epoch 31/100\n",
            "1800/1800 [==============================] - 0s 19us/step - loss: 0.2119 - accuracy: 0.9378 - val_loss: 0.2616 - val_accuracy: 0.9000\n",
            "Epoch 32/100\n",
            "1800/1800 [==============================] - 0s 21us/step - loss: 0.2022 - accuracy: 0.9422 - val_loss: 0.2551 - val_accuracy: 0.9100\n",
            "Epoch 33/100\n",
            "1800/1800 [==============================] - 0s 21us/step - loss: 0.1940 - accuracy: 0.9428 - val_loss: 0.2512 - val_accuracy: 0.9050\n",
            "Epoch 34/100\n",
            "1800/1800 [==============================] - 0s 20us/step - loss: 0.1854 - accuracy: 0.9450 - val_loss: 0.2448 - val_accuracy: 0.9150\n",
            "Epoch 35/100\n",
            "1800/1800 [==============================] - 0s 21us/step - loss: 0.1774 - accuracy: 0.9472 - val_loss: 0.2391 - val_accuracy: 0.9050\n",
            "Epoch 36/100\n",
            "1800/1800 [==============================] - 0s 19us/step - loss: 0.1715 - accuracy: 0.9472 - val_loss: 0.2374 - val_accuracy: 0.9050\n",
            "Epoch 37/100\n",
            "1800/1800 [==============================] - 0s 22us/step - loss: 0.1649 - accuracy: 0.9517 - val_loss: 0.2343 - val_accuracy: 0.9100\n",
            "Epoch 38/100\n",
            "1800/1800 [==============================] - 0s 19us/step - loss: 0.1571 - accuracy: 0.9594 - val_loss: 0.2302 - val_accuracy: 0.9050\n",
            "Epoch 39/100\n",
            "1800/1800 [==============================] - 0s 20us/step - loss: 0.1536 - accuracy: 0.9561 - val_loss: 0.2357 - val_accuracy: 0.9100\n",
            "Epoch 40/100\n",
            "1800/1800 [==============================] - 0s 23us/step - loss: 0.1501 - accuracy: 0.9567 - val_loss: 0.2233 - val_accuracy: 0.9100\n",
            "Epoch 41/100\n",
            "1800/1800 [==============================] - 0s 22us/step - loss: 0.1436 - accuracy: 0.9600 - val_loss: 0.2273 - val_accuracy: 0.9100\n",
            "Epoch 42/100\n",
            "1800/1800 [==============================] - 0s 22us/step - loss: 0.1380 - accuracy: 0.9622 - val_loss: 0.2222 - val_accuracy: 0.9100\n",
            "Epoch 43/100\n",
            "1800/1800 [==============================] - 0s 22us/step - loss: 0.1338 - accuracy: 0.9661 - val_loss: 0.2175 - val_accuracy: 0.9150\n",
            "Epoch 44/100\n",
            "1800/1800 [==============================] - 0s 22us/step - loss: 0.1299 - accuracy: 0.9672 - val_loss: 0.2167 - val_accuracy: 0.9050\n",
            "Epoch 45/100\n",
            "1800/1800 [==============================] - 0s 22us/step - loss: 0.1262 - accuracy: 0.9678 - val_loss: 0.2153 - val_accuracy: 0.9050\n",
            "Epoch 46/100\n",
            "1800/1800 [==============================] - 0s 22us/step - loss: 0.1237 - accuracy: 0.9672 - val_loss: 0.2133 - val_accuracy: 0.9050\n",
            "Epoch 47/100\n",
            "1800/1800 [==============================] - 0s 22us/step - loss: 0.1187 - accuracy: 0.9700 - val_loss: 0.2134 - val_accuracy: 0.9000\n",
            "Epoch 48/100\n",
            "1800/1800 [==============================] - 0s 25us/step - loss: 0.1161 - accuracy: 0.9706 - val_loss: 0.2120 - val_accuracy: 0.9000\n",
            "Epoch 49/100\n",
            "1800/1800 [==============================] - 0s 22us/step - loss: 0.1130 - accuracy: 0.9722 - val_loss: 0.2132 - val_accuracy: 0.9000\n",
            "Epoch 50/100\n",
            "1800/1800 [==============================] - 0s 24us/step - loss: 0.1101 - accuracy: 0.9717 - val_loss: 0.2105 - val_accuracy: 0.9000\n",
            "Epoch 51/100\n",
            "1800/1800 [==============================] - 0s 21us/step - loss: 0.1075 - accuracy: 0.9744 - val_loss: 0.2119 - val_accuracy: 0.9000\n",
            "Epoch 52/100\n",
            "1800/1800 [==============================] - 0s 23us/step - loss: 0.1063 - accuracy: 0.9722 - val_loss: 0.2095 - val_accuracy: 0.9050\n",
            "Epoch 53/100\n",
            "1800/1800 [==============================] - 0s 22us/step - loss: 0.1020 - accuracy: 0.9744 - val_loss: 0.2091 - val_accuracy: 0.9000\n",
            "Epoch 54/100\n",
            "1800/1800 [==============================] - 0s 23us/step - loss: 0.0996 - accuracy: 0.9783 - val_loss: 0.2031 - val_accuracy: 0.9000\n",
            "Epoch 55/100\n",
            "1800/1800 [==============================] - 0s 23us/step - loss: 0.0963 - accuracy: 0.9789 - val_loss: 0.2090 - val_accuracy: 0.9000\n",
            "Epoch 56/100\n",
            "1800/1800 [==============================] - 0s 23us/step - loss: 0.0941 - accuracy: 0.9794 - val_loss: 0.2087 - val_accuracy: 0.8950\n",
            "Epoch 57/100\n",
            "1800/1800 [==============================] - 0s 20us/step - loss: 0.0924 - accuracy: 0.9811 - val_loss: 0.2033 - val_accuracy: 0.9000\n",
            "Epoch 58/100\n",
            "1800/1800 [==============================] - 0s 21us/step - loss: 0.0899 - accuracy: 0.9794 - val_loss: 0.2069 - val_accuracy: 0.9000\n",
            "Epoch 59/100\n",
            "1800/1800 [==============================] - 0s 20us/step - loss: 0.0886 - accuracy: 0.9800 - val_loss: 0.2050 - val_accuracy: 0.9050\n",
            "Epoch 60/100\n",
            "1800/1800 [==============================] - 0s 20us/step - loss: 0.0866 - accuracy: 0.9806 - val_loss: 0.2074 - val_accuracy: 0.9000\n",
            "Epoch 61/100\n",
            "1800/1800 [==============================] - 0s 21us/step - loss: 0.0840 - accuracy: 0.9822 - val_loss: 0.2082 - val_accuracy: 0.8950\n",
            "Epoch 62/100\n",
            "1800/1800 [==============================] - 0s 22us/step - loss: 0.0819 - accuracy: 0.9806 - val_loss: 0.2038 - val_accuracy: 0.8950\n",
            "Epoch 63/100\n",
            "1800/1800 [==============================] - 0s 21us/step - loss: 0.0800 - accuracy: 0.9817 - val_loss: 0.2062 - val_accuracy: 0.9000\n",
            "Epoch 64/100\n",
            "1800/1800 [==============================] - 0s 19us/step - loss: 0.0816 - accuracy: 0.9806 - val_loss: 0.2071 - val_accuracy: 0.8950\n",
            "Epoch 65/100\n",
            "1800/1800 [==============================] - 0s 20us/step - loss: 0.0770 - accuracy: 0.9828 - val_loss: 0.2021 - val_accuracy: 0.8900\n",
            "Epoch 66/100\n",
            "1800/1800 [==============================] - 0s 19us/step - loss: 0.0769 - accuracy: 0.9839 - val_loss: 0.2027 - val_accuracy: 0.9000\n",
            "Epoch 67/100\n",
            "1800/1800 [==============================] - 0s 21us/step - loss: 0.0754 - accuracy: 0.9839 - val_loss: 0.2012 - val_accuracy: 0.8900\n",
            "Epoch 68/100\n",
            "1800/1800 [==============================] - 0s 22us/step - loss: 0.0728 - accuracy: 0.9856 - val_loss: 0.2053 - val_accuracy: 0.9000\n",
            "Epoch 69/100\n",
            "1800/1800 [==============================] - 0s 19us/step - loss: 0.0734 - accuracy: 0.9839 - val_loss: 0.2079 - val_accuracy: 0.9000\n",
            "Epoch 70/100\n",
            "1800/1800 [==============================] - 0s 20us/step - loss: 0.0710 - accuracy: 0.9856 - val_loss: 0.1992 - val_accuracy: 0.8950\n",
            "Epoch 71/100\n",
            "1800/1800 [==============================] - 0s 20us/step - loss: 0.0684 - accuracy: 0.9872 - val_loss: 0.2068 - val_accuracy: 0.9000\n",
            "Epoch 72/100\n",
            "1800/1800 [==============================] - 0s 20us/step - loss: 0.0678 - accuracy: 0.9850 - val_loss: 0.2018 - val_accuracy: 0.9000\n",
            "Epoch 73/100\n",
            "1800/1800 [==============================] - 0s 20us/step - loss: 0.0665 - accuracy: 0.9861 - val_loss: 0.2067 - val_accuracy: 0.9000\n",
            "Epoch 74/100\n",
            "1800/1800 [==============================] - 0s 22us/step - loss: 0.0656 - accuracy: 0.9878 - val_loss: 0.2033 - val_accuracy: 0.9050\n",
            "Epoch 75/100\n",
            "1800/1800 [==============================] - 0s 20us/step - loss: 0.0646 - accuracy: 0.9894 - val_loss: 0.2048 - val_accuracy: 0.9000\n",
            "Epoch 76/100\n",
            "1800/1800 [==============================] - 0s 19us/step - loss: 0.0638 - accuracy: 0.9872 - val_loss: 0.2100 - val_accuracy: 0.9000\n",
            "Epoch 77/100\n",
            "1800/1800 [==============================] - 0s 20us/step - loss: 0.0613 - accuracy: 0.9900 - val_loss: 0.2078 - val_accuracy: 0.9050\n",
            "Epoch 78/100\n",
            "1800/1800 [==============================] - 0s 19us/step - loss: 0.0608 - accuracy: 0.9900 - val_loss: 0.2081 - val_accuracy: 0.9050\n",
            "Epoch 79/100\n",
            "1800/1800 [==============================] - 0s 19us/step - loss: 0.0594 - accuracy: 0.9894 - val_loss: 0.2159 - val_accuracy: 0.9050\n",
            "Epoch 80/100\n",
            "1800/1800 [==============================] - 0s 20us/step - loss: 0.0591 - accuracy: 0.9911 - val_loss: 0.2048 - val_accuracy: 0.9050\n",
            "Epoch 81/100\n",
            "1800/1800 [==============================] - 0s 20us/step - loss: 0.0578 - accuracy: 0.9883 - val_loss: 0.2038 - val_accuracy: 0.9000\n",
            "Epoch 82/100\n",
            "1800/1800 [==============================] - 0s 20us/step - loss: 0.0565 - accuracy: 0.9900 - val_loss: 0.2080 - val_accuracy: 0.9150\n",
            "Epoch 83/100\n",
            "1800/1800 [==============================] - 0s 21us/step - loss: 0.0570 - accuracy: 0.9894 - val_loss: 0.2108 - val_accuracy: 0.9100\n",
            "Epoch 84/100\n",
            "1800/1800 [==============================] - 0s 20us/step - loss: 0.0558 - accuracy: 0.9889 - val_loss: 0.2101 - val_accuracy: 0.9050\n",
            "Epoch 85/100\n",
            "1800/1800 [==============================] - 0s 20us/step - loss: 0.0539 - accuracy: 0.9928 - val_loss: 0.2123 - val_accuracy: 0.9150\n",
            "Epoch 86/100\n",
            "1800/1800 [==============================] - 0s 21us/step - loss: 0.0531 - accuracy: 0.9894 - val_loss: 0.2085 - val_accuracy: 0.9150\n",
            "Epoch 87/100\n",
            "1800/1800 [==============================] - 0s 19us/step - loss: 0.0525 - accuracy: 0.9933 - val_loss: 0.2134 - val_accuracy: 0.9150\n",
            "Epoch 88/100\n",
            "1800/1800 [==============================] - 0s 22us/step - loss: 0.0520 - accuracy: 0.9906 - val_loss: 0.2103 - val_accuracy: 0.9150\n",
            "Epoch 89/100\n",
            "1800/1800 [==============================] - 0s 23us/step - loss: 0.0524 - accuracy: 0.9922 - val_loss: 0.2110 - val_accuracy: 0.9000\n",
            "Epoch 90/100\n",
            "1800/1800 [==============================] - 0s 20us/step - loss: 0.0499 - accuracy: 0.9917 - val_loss: 0.2068 - val_accuracy: 0.9150\n",
            "Epoch 91/100\n",
            "1800/1800 [==============================] - 0s 23us/step - loss: 0.0491 - accuracy: 0.9928 - val_loss: 0.2081 - val_accuracy: 0.9200\n",
            "Epoch 92/100\n",
            "1800/1800 [==============================] - 0s 20us/step - loss: 0.0479 - accuracy: 0.9922 - val_loss: 0.2073 - val_accuracy: 0.9150\n",
            "Epoch 93/100\n",
            "1800/1800 [==============================] - 0s 24us/step - loss: 0.0483 - accuracy: 0.9933 - val_loss: 0.2109 - val_accuracy: 0.9150\n",
            "Epoch 94/100\n",
            "1800/1800 [==============================] - 0s 23us/step - loss: 0.0463 - accuracy: 0.9944 - val_loss: 0.2096 - val_accuracy: 0.9200\n",
            "Epoch 95/100\n",
            "1800/1800 [==============================] - 0s 23us/step - loss: 0.0457 - accuracy: 0.9928 - val_loss: 0.2101 - val_accuracy: 0.9100\n",
            "Epoch 96/100\n",
            "1800/1800 [==============================] - 0s 22us/step - loss: 0.0450 - accuracy: 0.9933 - val_loss: 0.2121 - val_accuracy: 0.9200\n",
            "Epoch 97/100\n",
            "1800/1800 [==============================] - 0s 23us/step - loss: 0.0445 - accuracy: 0.9933 - val_loss: 0.2097 - val_accuracy: 0.9100\n",
            "Epoch 98/100\n",
            "1800/1800 [==============================] - 0s 25us/step - loss: 0.0434 - accuracy: 0.9944 - val_loss: 0.2103 - val_accuracy: 0.9150\n",
            "Epoch 99/100\n",
            "1800/1800 [==============================] - 0s 29us/step - loss: 0.0430 - accuracy: 0.9944 - val_loss: 0.2095 - val_accuracy: 0.9200\n",
            "Epoch 100/100\n",
            "1800/1800 [==============================] - 0s 23us/step - loss: 0.0420 - accuracy: 0.9944 - val_loss: 0.2137 - val_accuracy: 0.9150\n"
          ],
          "name": "stdout"
        }
      ]
    },
    {
      "cell_type": "code",
      "metadata": {
        "id": "b8g33k13BIVn",
        "colab_type": "code",
        "colab": {}
      },
      "source": [
        "Y_pred = model.predict(X_test)\n",
        "#convert predictions to label\n",
        "pred = list()\n",
        "for i in range(len(Y_pred)):\n",
        "  pred.append(np.argmax(Y_pred[i]))\n",
        "#convert one hot encoded test label to label\n",
        "test = list()\n",
        "for i in range(len(Y_test)):\n",
        "  test.append(np.argmax(Y_test[i]))"
      ],
      "execution_count": 0,
      "outputs": []
    },
    {
      "cell_type": "code",
      "metadata": {
        "id": "YcQG518jCTuL",
        "colab_type": "code",
        "colab": {
          "base_uri": "https://localhost:8080/",
          "height": 34
        },
        "outputId": "5d6eb5b6-0a74-45cf-e95d-333514a4d6e9"
      },
      "source": [
        "from sklearn.metrics import accuracy_score\n",
        "a = accuracy_score(pred, test)\n",
        "print('Accuracy is:', a*100)\n"
      ],
      "execution_count": 59,
      "outputs": [
        {
          "output_type": "stream",
          "text": [
            "Accuracy is: 91.5\n"
          ],
          "name": "stdout"
        }
      ]
    },
    {
      "cell_type": "code",
      "metadata": {
        "id": "c47DP5rxDy-B",
        "colab_type": "code",
        "colab": {
          "base_uri": "https://localhost:8080/",
          "height": 295
        },
        "outputId": "9ee9868b-f8d5-487c-cd8d-b84dde353baa"
      },
      "source": [
        "import matplotlib.pyplot as plt\n",
        "plt.plot(history.history['accuracy'])\n",
        "plt.plot(history.history['val_accuracy'])\n",
        "plt.title('Model accuracy')\n",
        "plt.ylabel('Accuracy')\n",
        "plt.xlabel('Epoch')\n",
        "plt.legend(['Train', 'Test'], loc='upper left')\n",
        "plt.show()"
      ],
      "execution_count": 61,
      "outputs": [
        {
          "output_type": "display_data",
          "data": {
            "image/png": "[encoded data removed]",
            "text/plain": [
              "<Figure size 432x288 with 1 Axes>"
            ]
          },
          "metadata": {
            "tags": [],
            "needs_background": "light"
          }
        }
      ]
    }
  ]
}